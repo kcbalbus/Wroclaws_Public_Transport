{
 "cells": [
  {
   "cell_type": "markdown",
   "source": [
    "# Preprocessing"
   ],
   "metadata": {
    "collapsed": false
   },
   "id": "1626d6dc614ee3ca"
  },
  {
   "cell_type": "markdown",
   "source": [
    "Ze względu na występowanie w pliku godzin, które są nie zgodne z ogólnie przyjętym formatem (autobusy noce), przygotowałem funkcję, która przy wczytywaniu danych z pliku służyć będzie zmianie godziny na prawidłową."
   ],
   "metadata": {
    "collapsed": false
   },
   "id": "5f32642f56cd6c14"
  },
  {
   "cell_type": "code",
   "execution_count": 2,
   "outputs": [],
   "source": [
    "from datetime import datetime, timedelta\n",
    "\n",
    "def read_time(time: str):\n",
    "    if(int(time[:2]) > 23):\n",
    "        time = str(int(time[:2])-24) + time[2:]\n",
    "    return datetime.strptime(time, '%H:%M:%S')\n",
    "                "
   ],
   "metadata": {
    "collapsed": false,
    "ExecuteTime": {
     "end_time": "2024-04-09T21:34:36.555317800Z",
     "start_time": "2024-04-09T21:34:36.532248300Z"
    }
   },
   "id": "759201748040d107"
  },
  {
   "cell_type": "markdown",
   "source": [
    "# Struktura danych"
   ],
   "metadata": {
    "collapsed": false
   },
   "id": "94271f047358bab3"
  },
  {
   "cell_type": "markdown",
   "source": [
    "Klasa Node przechowywać będzie informacje dotyczące pojedynczego węzła(przystanku autobusowego) występującego w grafie. Każdy przystanek posiada określona nazwę długosć geograficzną, szerokość geograficzną oraz listę wychodzących z niego krawędzi. Dodatkowo zdefiniowane zostały w nim funkcję mające służyć jako pomoc przy wczytywaniu danych. Fix_location to funkcja, która w przypadu gdy podana w argumentach szerokość lub długość geograficzna nie jest identyczna, co aktualnie zapisana, oblicza i przypisuje średnią wyciągniętą z obu wartości. Funkcja add_edge korzystając z podanych argumentów tworzy obiekt Edge i dodaje go do listy krawędzi."
   ],
   "metadata": {
    "collapsed": false
   },
   "id": "830527c44f912660"
  },
  {
   "cell_type": "code",
   "execution_count": 3,
   "outputs": [],
   "source": [
    "class Node:\n",
    "    def __init__(self, stop_name, lat, lon):\n",
    "        self.stop_name = stop_name\n",
    "        self.lat = lat\n",
    "        self.lon = lon\n",
    "        self.edges = []\n",
    "\n",
    "    def add_edge(self, line, start_stop, end_stop, departure_time, arrival_time):\n",
    "        self.edges.append(Edge(line, start_stop, end_stop, departure_time, arrival_time))\n",
    "        \n",
    "    def fix_lat(self, lat):\n",
    "        if(self.lat!=lat):\n",
    "            self.lat=(self.lat+lat)/2\n",
    "            \n",
    "    def fix_lon(self, lon):\n",
    "        if(self.lon!=lon):\n",
    "            self.lon=(self.lon+lon)/2 \n",
    "            \n",
    "    def fix_location(self, lat, lon):\n",
    "        self.fix_lat(lat)\n",
    "        self.fix_lon(lon)\n",
    "\n",
    "    def __lt__(self, other):\n",
    "        return self.stop_name <= other.stop_name\n",
    "\n",
    "    def __eq__(self, other):\n",
    "        return self.stop_name == other.stop_name\n",
    "\n",
    "    def __ne__(self, other):\n",
    "        return self.stop_name != other.stop_name\n",
    "\n",
    "    def __str__(self) -> str:\n",
    "        edges_str = '\\n'.join(str(edge) for edge in self.edges)\n",
    "        return f'stop_name: {self.stop_name}\\n edges: {edges_str}'\n"
   ],
   "metadata": {
    "collapsed": false,
    "ExecuteTime": {
     "end_time": "2024-04-09T21:34:37.030489400Z",
     "start_time": "2024-04-09T21:34:37.010415400Z"
    }
   },
   "id": "df446b29eb04c4ee"
  },
  {
   "cell_type": "markdown",
   "source": [
    "Klasa Edge służyć będzie do przechowywania informacji o krawędzi między węzłami (połączenie między przystankami). Każde połączenie posiada nazwę linii, przystanek początkowy, przystanek końcowy, czas odjazdu z obecnego przystanku oraz czas przyjazdu na przystanek docelowy."
   ],
   "metadata": {
    "collapsed": false
   },
   "id": "b0f1194e07ffacdf"
  },
  {
   "cell_type": "code",
   "execution_count": 4,
   "outputs": [],
   "source": [
    "\n",
    "class Edge:\n",
    "    def __init__(self, line, start_stop, end_stop, departure_time, arrival_time):\n",
    "        self.line = line\n",
    "        self.start_stop = start_stop\n",
    "        self.end_stop = end_stop\n",
    "        self.departure_time = departure_time\n",
    "        self.arrival_time = arrival_time\n",
    "        \n",
    "    def __str__(self):\n",
    "        return f'{self.line} : {self.start_stop.stop_name} - {self.end_stop.stop_name} | {self.departure_time} :: {self.arrival_time}'\n",
    "\n",
    "\n",
    "    def __lt__(self, other):\n",
    "        return self.arrival_time <= other.arrival_time"
   ],
   "metadata": {
    "collapsed": false,
    "ExecuteTime": {
     "end_time": "2024-04-09T21:34:37.390071900Z",
     "start_time": "2024-04-09T21:34:37.361769800Z"
    }
   },
   "id": "fcc741ff226ce6e7"
  },
  {
   "cell_type": "markdown",
   "source": [
    "# Wczytywanie danych do struktury"
   ],
   "metadata": {
    "collapsed": false
   },
   "id": "c0f4c1c8c5d6a58a"
  },
  {
   "cell_type": "markdown",
   "source": [
    "Cała struktura grafu będzie przechowywana w słowniku. Kluczem będzie nazwa przystanku, natomiast wartością obiekt węzła. W związku z niespójnym nazewnictwem wszystkie nazwy przystanków przechowywane będą wielkimi literami. W przypadku odczytania wiersza w pliku, gdzie przystanek startowy nie występuje w słowniku tworzę obiekt, który ma go reprezentować, natomiast gdy już został wcześniej dodany do struktury wywołuję funkcję fix_location, która ma służyć uśrednieniu jego długości i szerokości geograficznej. Następnie do węzła przekazywane są dane dotyczące odczytanej krawędzi, aby móc dodać go do listy wychodzących z niego połączeń. Po wczytaniu do słownika całego pliku lista krawędzi wychodzących z węzłów sortowana jest według czasu odjazdu, co ma służyć ułatwieniu przyszłego debugowania."
   ],
   "metadata": {
    "collapsed": false
   },
   "id": "96fcc7b5d8d9a968"
  },
  {
   "cell_type": "code",
   "execution_count": 5,
   "outputs": [],
   "source": [
    "import csv\n",
    "\n",
    "def load_data_to_graph(csv_file_path):\n",
    "    nodes_dict = {}\n",
    "\n",
    "    with open(csv_file_path, newline='', encoding='utf-8') as csvfile:\n",
    "        reader = csv.DictReader(csvfile)\n",
    "\n",
    "        for row in reader:\n",
    "            line = row['line']\n",
    "            departure_time = read_time(row['departure_time'])\n",
    "            arrival_time = read_time(row['arrival_time'])\n",
    "            start_stop_name = (row['start_stop']).upper()\n",
    "            end_stop_name = (row['end_stop']).upper()\n",
    "            start_stop_lat = float(row['start_stop_lat'])\n",
    "            start_stop_lon = float(row['start_stop_lon'])\n",
    "            end_stop_lat = float(row['end_stop_lat'])\n",
    "            end_stop_lon = float(row['end_stop_lon'])\n",
    "\n",
    "            if start_stop_name not in nodes_dict:\n",
    "                nodes_dict[start_stop_name] = Node(start_stop_name, start_stop_lat, start_stop_lon)\n",
    "            else:\n",
    "                nodes_dict[start_stop_name].fix_location(start_stop_lat, start_stop_lon)\n",
    "\n",
    "            if end_stop_name not in nodes_dict:\n",
    "                nodes_dict[end_stop_name] = Node(end_stop_name, end_stop_lat, end_stop_lon)\n",
    "            else:\n",
    "                nodes_dict[end_stop_name].fix_location(end_stop_lat, end_stop_lon)\n",
    "                \n",
    "            \n",
    "            nodes_dict[start_stop_name].add_edge(line, nodes_dict[start_stop_name],nodes_dict[end_stop_name], departure_time, arrival_time)\n",
    "\n",
    "    for node_name, node in nodes_dict.items():\n",
    "        node.edges.sort(key=lambda x: x.departure_time)\n",
    "\n",
    "    return nodes_dict"
   ],
   "metadata": {
    "collapsed": false,
    "ExecuteTime": {
     "end_time": "2024-04-09T21:34:37.874388200Z",
     "start_time": "2024-04-09T21:34:37.836119100Z"
    }
   },
   "id": "89d10740a2d7c0b6"
  },
  {
   "cell_type": "code",
   "execution_count": 6,
   "outputs": [],
   "source": [
    "csv_file = 'connection_graph.csv'\n",
    "graph = load_data_to_graph(csv_file)"
   ],
   "metadata": {
    "collapsed": false,
    "ExecuteTime": {
     "end_time": "2024-04-09T21:35:02.966662Z",
     "start_time": "2024-04-09T21:34:38.020799200Z"
    }
   },
   "id": "693cc16dffcfe726"
  },
  {
   "cell_type": "markdown",
   "source": [
    "# Kryterium czasu"
   ],
   "metadata": {
    "collapsed": false
   },
   "id": "6f4dd6dee3ad5829"
  },
  {
   "cell_type": "markdown",
   "source": [
    "Funkcje pomocnicze"
   ],
   "metadata": {
    "collapsed": false
   },
   "id": "d7161a55b3dcb38b"
  },
  {
   "cell_type": "markdown",
   "source": [
    "Na początku zdefiniowane zostaną funkcje służące obliczeniu kosztów przejazdu. Funkcja calculate_timediff jest kluczowa dla działania wszytskich algorytmów, gdyż oblicza różnicę między czasem aktualnym, a czasem dojazdu na następny przystanek, uwzględniając sytuację, gdy czas odjazdu lub przyjazdu na przystanek docelowy jest mniejszy niż czas obecny (czyli wtedy gdy połączenie następuje kolejnego dnia). "
   ],
   "metadata": {
    "collapsed": false
   },
   "id": "d07a842ac2b6336a"
  },
  {
   "cell_type": "code",
   "execution_count": 7,
   "outputs": [],
   "source": [
    "def calculate_timediff(departure_time, edge_departure_time, edge_arrival_time):\n",
    "    if(edge_departure_time < departure_time or edge_arrival_time < departure_time):\n",
    "        midnight = datetime.strptime('00:00:00', \"%H:%M:%S\")\n",
    "        duration = edge_arrival_time - midnight\n",
    "        midnight += timedelta(days=1)\n",
    "        duration += midnight - departure_time\n",
    "    else:\n",
    "        duration = edge_arrival_time - departure_time\n",
    "        \n",
    "    return duration.total_seconds() / 60.0"
   ],
   "metadata": {
    "collapsed": false,
    "ExecuteTime": {
     "end_time": "2024-04-09T21:35:02.979877700Z",
     "start_time": "2024-04-09T21:35:02.970664Z"
    }
   },
   "id": "86bf9eb14118858c"
  },
  {
   "cell_type": "code",
   "execution_count": 8,
   "outputs": [],
   "source": [
    "def sum_cost(current_cost, departure_time, edge_departure_time, edge_arrival_time):\n",
    "    return current_cost + calculate_timediff(departure_time, edge_departure_time, edge_arrival_time)"
   ],
   "metadata": {
    "collapsed": false,
    "ExecuteTime": {
     "end_time": "2024-04-09T21:35:02.979877700Z",
     "start_time": "2024-04-09T21:35:02.979355800Z"
    }
   },
   "id": "c76694160f5acd9b"
  },
  {
   "cell_type": "markdown",
   "source": [
    "Dijkstra"
   ],
   "metadata": {
    "collapsed": false
   },
   "id": "1ee979bbfadb625"
  },
  {
   "cell_type": "markdown",
   "source": [
    "Koszt dojazdu na każdy z przystanków przechowywany będzie w słowniku cost_dict, a trasa w liście path. Na początku dojazd na każdy z przystanków oprócz początkowego wynosić będzie 99999999, natomiast trasa będzie pusta. Tworzymy strukturę heapq, która służyć będzie jako kolejka priorytetowa, gdzie kryterium pierszeństwa będzie najmniejszy koszt(czas) przejazdu. Pierwszym elementem dodanym do heapq jest krotka z kosztem 0, czasem początkowym, obiektem przystanku początkowego oraz ścieżką. Następnie w pętli wykonującej się dopóki kolejka priorytetowa nie jest pusta lub obecny węzeł nie jest węzłem końcowym zczytujemy z kolejki priorytetowej dotychczasowy koszt, godzinę, przystanek oraz ścieżkę. Teraz dla każdej z krawędzi wychodzącej z obecnego węzła obliczamy koszt dotarcia na przystanek do którego prowadzi połączenie. Jeżeli czas obecnie przechowywany w słowniku kosztu dla następnego przystanku będzie mniejszy niż nowo wylicznony, to zosatnie on zastąpiony, a do kolejki dodany zostanie element zawierający nowy koszt, czas dojazdu na nastepny przystanek, obiekt następnego przystanku oraz ścieżka uaktualniona o rozważane połączenie."
   ],
   "metadata": {
    "collapsed": false
   },
   "id": "7e06db78fa62c2db"
  },
  {
   "cell_type": "code",
   "execution_count": 9,
   "outputs": [],
   "source": [
    "import heapq\n",
    "import time\n",
    "\n",
    "def dijkstra_time(nodes_dict, start_stop, end_stop, start_time):\n",
    "    cost_dict={}\n",
    "\n",
    "    for node_name in nodes_dict.keys():\n",
    "        cost_dict[node_name] = 99999999\n",
    "\n",
    "    cost_dict[start_stop] = 0\n",
    "\n",
    "    path = []\n",
    "\n",
    "    priority_queue = [(0, start_time, nodes_dict[start_stop], path)]\n",
    "\n",
    "    while priority_queue:\n",
    "        (current_cost, current_arrival_time, current_node, current_path) = heapq.heappop(priority_queue)\n",
    "\n",
    "        if(current_node == nodes_dict[end_stop]):\n",
    "            path = current_path\n",
    "            break\n",
    "\n",
    "        for edge in current_node.edges:\n",
    "            \n",
    "            next_node = edge.end_stop\n",
    "            new_cost = sum_cost(current_cost, current_arrival_time, edge.departure_time, edge.arrival_time)\n",
    "            \n",
    "            if(new_cost < cost_dict[next_node.stop_name]):\n",
    "                cost_dict[next_node.stop_name] = new_cost\n",
    "\n",
    "                new_path = current_path.copy()\n",
    "                new_path.append(edge)\n",
    "\n",
    "                heapq.heappush(priority_queue, (new_cost, edge.arrival_time, next_node, new_path))\n",
    "\n",
    "               \n",
    "\n",
    "    return path, cost_dict[end_stop]"
   ],
   "metadata": {
    "collapsed": false,
    "ExecuteTime": {
     "end_time": "2024-04-09T21:35:02.991879200Z",
     "start_time": "2024-04-09T21:35:02.987880900Z"
    }
   },
   "id": "1aa5bbd372803838"
  },
  {
   "cell_type": "markdown",
   "source": [
    "A* - funkcje pomocnicze"
   ],
   "metadata": {
    "collapsed": false
   },
   "id": "70c6347e0f8402c4"
  },
  {
   "cell_type": "markdown",
   "source": [
    "Do wykonania algorytmu a* konieczne będzie stworzenie funkcji, która korzystając z długości i szerokości geograficznej zwróci nam odległość między przystankami w formie, która może być dodana do kosztów czasu. To realizować ma funkcja calculate_dist_as_time, która wywołuje funkcję obliczającą dystans euklidesowy między węzłami. Następnie obliczona odległość mnożona jest przez 416.25, co w przybliżeniu ma konwertować odległość geograficzną na czas przejazdu między przystankami. Wartość 416.25 uzyskałem porzystając ze wzoru [111 / 16 * 60], gdzie 111 - przybliżenie 1 stopnia geograficznego w km, 16 - średnia prędkość tramwaju we Wrocławiu, 60 - przeliczenie czasu z godzin na minuty."
   ],
   "metadata": {
    "collapsed": false
   },
   "id": "dafab0e7e36cc5fd"
  },
  {
   "cell_type": "code",
   "execution_count": 10,
   "outputs": [],
   "source": [
    "def euclidian_distance(start_node: Node, end_node: Node):\n",
    "    return ((start_node.lat - end_node.lat) ** 2 + (start_node.lon - end_node.lon) ** 2) ** 0.5\n",
    "\n",
    "def manhattan_distance(start_node, end_node):\n",
    "    return abs(start_node.lat - end_node.lat) + abs(start_node.lon - end_node.lon)\n",
    "\n",
    "def calculate_dist_as_time(start_node: Node, end_node: Node):\n",
    "    distance =euclidian_distance(start_node, end_node)    \n",
    "    return distance * 416.25\n"
   ],
   "metadata": {
    "collapsed": false,
    "ExecuteTime": {
     "end_time": "2024-04-09T21:35:03.005295300Z",
     "start_time": "2024-04-09T21:35:02.997406500Z"
    }
   },
   "id": "a6655bce19954515"
  },
  {
   "cell_type": "markdown",
   "source": [
    "A* - czas"
   ],
   "metadata": {
    "collapsed": false
   },
   "id": "6b2f381cfb29bb87"
  },
  {
   "cell_type": "markdown",
   "source": [
    "Algorytm bardzo zbliżony do wcześniej opisanego algorytmu Dijskstry. Główną różnicą jest przechowywania w kolejce priorytetowej priorytetu, który jest również głównym kryterium pierszeństwa. Jego wartość wyliczana jest jako nowy koszt plus przewidywany czas dojazdu do przystanku końcowego, który obliczany jest wykorzystując funkcję pomocniczą calculate_dist_as_time."
   ],
   "metadata": {
    "collapsed": false
   },
   "id": "63fb4913cb110559"
  },
  {
   "cell_type": "code",
   "execution_count": 11,
   "outputs": [],
   "source": [
    "def a_star_time(nodes_dict, start_stop, end_stop, start_time):\n",
    "    cost_dict={}\n",
    "\n",
    "    for node_name in nodes_dict.keys():\n",
    "        cost_dict[node_name] = 99999999\n",
    "\n",
    "    cost_dict[start_stop] = 0\n",
    "\n",
    "    path = []\n",
    "\n",
    "    priority_queue = [(0, 0, start_time, nodes_dict[start_stop], path)]\n",
    "\n",
    "    while priority_queue:\n",
    "        (priority, current_cost, current_arrival_time, current_node, current_path) = heapq.heappop(priority_queue)\n",
    "\n",
    "        if(current_node == nodes_dict[end_stop]):\n",
    "            path = current_path\n",
    "            break\n",
    "\n",
    "        for edge in current_node.edges:\n",
    "\n",
    "            next_node = edge.end_stop\n",
    "            new_cost = sum_cost(current_cost, current_arrival_time, edge.departure_time, edge.arrival_time)\n",
    "    \n",
    "            if(new_cost < cost_dict[next_node.stop_name]):\n",
    "                cost_dict[next_node.stop_name] = new_cost\n",
    "                \n",
    "                new_priority = new_cost + calculate_dist_as_time(nodes_dict[next_node.stop_name], nodes_dict[end_stop])\n",
    "\n",
    "                new_path = current_path.copy()\n",
    "                new_path.append(edge)\n",
    "\n",
    "                heapq.heappush(priority_queue, (new_priority, new_cost, edge.arrival_time, next_node, new_path))\n",
    "\n",
    "    return path, cost_dict[end_stop]\n",
    "\n",
    "\n"
   ],
   "metadata": {
    "collapsed": false,
    "ExecuteTime": {
     "end_time": "2024-04-09T21:35:03.034885900Z",
     "start_time": "2024-04-09T21:35:03.002431300Z"
    }
   },
   "id": "b85663f36d4b390c"
  },
  {
   "cell_type": "markdown",
   "source": [
    "Funkcje pomocnicze - kryterium przesiadek"
   ],
   "metadata": {
    "collapsed": false
   },
   "id": "4f6edc8cae938c73"
  },
  {
   "cell_type": "markdown",
   "source": [
    "Przy obliczaniu kryterium przysiadek zdefiniowałem 2 funkcje pomocnicze: calculate_transfer - zwracającą 1 jeżeli linia połączenia jest inna niż obecna oraz calculate_transfer_as_time, która przelicza każdą przesiadkę na 1440 min (jedną dobę)."
   ],
   "metadata": {
    "collapsed": false
   },
   "id": "84b5c9525c6421d4"
  },
  {
   "cell_type": "code",
   "execution_count": 12,
   "outputs": [],
   "source": [
    "def calculate_transfer(current_line, nextEdge):\n",
    "    if(current_line != nextEdge.line ):\n",
    "        return 1.0\n",
    "    \n",
    "    return 0.0"
   ],
   "metadata": {
    "collapsed": false,
    "ExecuteTime": {
     "end_time": "2024-04-09T21:35:03.038888800Z",
     "start_time": "2024-04-09T21:35:03.010963Z"
    }
   },
   "id": "d94a3631f3f16fe1"
  },
  {
   "cell_type": "code",
   "execution_count": 13,
   "outputs": [],
   "source": [
    "def calculate_transfer_as_time(transfer):\n",
    "    return transfer*1440"
   ],
   "metadata": {
    "collapsed": false,
    "ExecuteTime": {
     "end_time": "2024-04-09T21:35:03.038888800Z",
     "start_time": "2024-04-09T21:35:03.015396300Z"
    }
   },
   "id": "3bbcd1468a82d1dc"
  },
  {
   "cell_type": "markdown",
   "source": [
    "Dijkstra - przesiadki"
   ],
   "metadata": {
    "collapsed": false
   },
   "id": "830ed26d551f6866"
  },
  {
   "cell_type": "markdown",
   "source": [
    "Kryterium przesiadek zrozumiane i zrealizowane zostało przeze mnie jako kryterium czasu z minimalną liczbą zmian linii. W związku z czym algorytm jest zbliżony do algorytmu dla kryterium samego czasu. Ważne zmiany to:\n",
    "- na samym początku dla pierwszego przystanku, dla każdej linii z niego wychodzącej koszt ustawiany jest na 0.\n",
    "- klucz w słowniku kosztu nie jest już nazwą przystanku, a nazwą przystanku oraz aktualnej linii. Brak dodania do klucza obecnej linii powodowałby, że do każdego przystanku po drodze znajdowana będzie trasa najszybszą linią i nawet jeżeli wymusza ona na nas później przesiadkę, to dla wcześniejszych przystanków nie będziemy w stanie jej już zmienić.\n",
    "- przy wyliczaniu kosztu uwzględniana jest zmiana linii, która jeżeli występuje oznacza doliczenie do kosztu 1440 minut, co powoduje, że w kolejce wcześniej rozważone zostaną wszystkie krawędzi nie powodujące przesiadki.\n",
    "- celem ułatwienia sprawdzenia wystąpienia przesiadki, do elementów w kolejce priorytetowej dodana została aktualna linia, która na samym początku ustawiona jest jako -1 (linia nieistniejąca).\n",
    "- przy dodawaniu pierwszego elementu kolejki priorytetowej koszt początkowy wynosi -1440, gdyż odliczam pierwszy wybór linii.\n"
   ],
   "metadata": {
    "collapsed": false
   },
   "id": "b53eabb3795f316b"
  },
  {
   "cell_type": "code",
   "execution_count": 14,
   "outputs": [],
   "source": [
    "def dijkstra_transfers(nodes_dict, start_stop, end_stop, start_time):\n",
    "    cost_dict={}\n",
    "    path = []\n",
    "    cost = -1440\n",
    "\n",
    "    priority_queue = [(cost, '-1', start_time, nodes_dict[start_stop], path)]\n",
    "\n",
    "    while priority_queue:\n",
    "        (current_cost, current_line, current_arrival_time, current_node, current_path) = heapq.heappop(priority_queue)\n",
    "\n",
    "        if(current_node == nodes_dict[end_stop]):\n",
    "            path = current_path\n",
    "            cost = current_cost\n",
    "            break\n",
    "\n",
    "        for edge in current_node.edges:\n",
    "            \n",
    "            if(current_path==[]):\n",
    "                cost_dict[f'{edge.line}_{current_node.stop_name}']=0\n",
    "            \n",
    "            line_change = calculate_transfer(current_line, edge)\n",
    "\n",
    "            next_node = edge.end_stop\n",
    "            \n",
    "            transfer_key = f'{edge.line}_{next_node.stop_name}'\n",
    "            \n",
    "            new_cost = sum_cost(current_cost, current_arrival_time, edge.departure_time, edge.arrival_time) + calculate_transfer_as_time(line_change)\n",
    "            \n",
    "            if(transfer_key not in cost_dict or new_cost<cost_dict[transfer_key]):\n",
    "                cost_dict[transfer_key]=new_cost\n",
    "\n",
    "                new_path = current_path.copy()\n",
    "                new_path.append(edge)\n",
    "\n",
    "                heapq.heappush(priority_queue, (new_cost, edge.line, edge.arrival_time, next_node, new_path))\n",
    "\n",
    "    return path, cost\n",
    "\n"
   ],
   "metadata": {
    "collapsed": false,
    "ExecuteTime": {
     "end_time": "2024-04-09T21:35:03.038888800Z",
     "start_time": "2024-04-09T21:35:03.019002400Z"
    }
   },
   "id": "1a906233381b224c"
  },
  {
   "cell_type": "markdown",
   "source": [
    "A* - przesiadki"
   ],
   "metadata": {
    "collapsed": false
   },
   "id": "84e71c3abf1ee85"
  },
  {
   "cell_type": "markdown",
   "source": [
    "Tak jak w przypadku kryterium czasu, algorytm różni się uwzględnieniem priorytetu w kolejce priorytetowej, który obliczany jest poprzez zsumowanie obliczonego kosztu i odległości przystanku nastepnego od końcowego przeliczonego na czas przejazdu w minutach."
   ],
   "metadata": {
    "collapsed": false
   },
   "id": "297c9a5e8eebab11"
  },
  {
   "cell_type": "code",
   "execution_count": 15,
   "outputs": [],
   "source": [
    "def a_star_transfers(nodes_dict, start_stop, end_stop, start_time):\n",
    "    cost_dict={}\n",
    "    path = []\n",
    "    cost = -1440\n",
    "\n",
    "    priority_queue = [(cost, cost, '-1', start_time, nodes_dict[start_stop], path)]\n",
    "\n",
    "    while priority_queue:\n",
    "        (priority, current_cost, current_line, current_arrival_time, current_node, current_path) = heapq.heappop(priority_queue)\n",
    "\n",
    "        if(current_node == nodes_dict[end_stop]):\n",
    "            path = current_path\n",
    "            cost = current_cost\n",
    "            break\n",
    "\n",
    "        for edge in current_node.edges:\n",
    "            \n",
    "            if(current_path==[]):\n",
    "                cost_dict[f'{edge.line}_{current_node.stop_name}']=0\n",
    "            \n",
    "            line_change = calculate_transfer(current_line, edge)\n",
    "\n",
    "            next_node = edge.end_stop\n",
    "            \n",
    "            transfer_key = f'{edge.line}_{next_node.stop_name}'\n",
    "            \n",
    "            new_cost = sum_cost(current_cost, current_arrival_time, edge.departure_time, edge.arrival_time) + calculate_transfer_as_time(line_change)\n",
    "            \n",
    "            if(transfer_key not in cost_dict or new_cost<cost_dict[transfer_key]):\n",
    "                cost_dict[transfer_key]=new_cost\n",
    "                priority = new_cost + calculate_dist_as_time(nodes_dict[next_node.stop_name], nodes_dict[end_stop])\n",
    "\n",
    "                new_path = current_path.copy()\n",
    "                new_path.append(edge)\n",
    "\n",
    "                heapq.heappush(priority_queue, (priority, new_cost, edge.line, edge.arrival_time, next_node, new_path))\n",
    "\n",
    "    return path, cost\n",
    "\n"
   ],
   "metadata": {
    "collapsed": false,
    "ExecuteTime": {
     "end_time": "2024-04-09T21:35:03.038888800Z",
     "start_time": "2024-04-09T21:35:03.026887400Z"
    }
   },
   "id": "8ed7df7471ae3621"
  },
  {
   "cell_type": "markdown",
   "source": [
    "# Testowanie"
   ],
   "metadata": {
    "collapsed": false
   },
   "id": "d1a488cfeed12c17"
  },
  {
   "cell_type": "markdown",
   "source": [
    "Funkcje weryfikujące działnie algorytmów"
   ],
   "metadata": {
    "collapsed": false
   },
   "id": "a1de3c34e43b2f32"
  },
  {
   "cell_type": "markdown",
   "source": [
    "Testy działania algorytmów przeprowadzone zostaną korzystając z funkcji test_algorithms, która 10 razy uruchamia każdą z przekazanych funkcji, a następnie wypisuje ich średni czas wykonywania oraz rezultat. Pojedyncze wywołanie realizowane jest przez funkcję test_function, która zwraca wynik i czas pojedynczego wywołania metody. Wypisywanie trasy realizowane jest przez funckję print_path.\n"
   ],
   "metadata": {
    "collapsed": false
   },
   "id": "34d83931b8393752"
  },
  {
   "cell_type": "code",
   "execution_count": 19,
   "outputs": [],
   "source": [
    "def test_function(func, *args, **kwargs):\n",
    "    start_time = time.time()\n",
    "    result = func(*args, **kwargs)\n",
    "    end_time = time.time()\n",
    "    execution_time = end_time - start_time\n",
    "    return (result, execution_time)"
   ],
   "metadata": {
    "collapsed": false,
    "ExecuteTime": {
     "end_time": "2024-04-09T21:36:20.327757100Z",
     "start_time": "2024-04-09T21:36:20.295228300Z"
    }
   },
   "id": "f94bc095190308b2"
  },
  {
   "cell_type": "code",
   "execution_count": 20,
   "outputs": [],
   "source": [
    "def test_algorithms(graph, start_stop, end_stop, start_time, *algorithms, repetitions=10):\n",
    "    results = {algorithm.__name__: [] for algorithm in algorithms}\n",
    "    execution_times = {algorithm.__name__: 0 for algorithm in algorithms}\n",
    "    \n",
    "    for i in range(repetitions):\n",
    "        for algorithm in algorithms:\n",
    "            result, exec_time = test_function(algorithm, graph, start_stop, end_stop, start_time)\n",
    "            execution_times[algorithm.__name__] += exec_time\n",
    "            results[algorithm.__name__] = result\n",
    "     \n",
    "    for algorithm in algorithms:\n",
    "        avg_time = execution_times[algorithm.__name__]/repetitions\n",
    "        path, cost = results[algorithm.__name__]\n",
    "        print(algorithm.__name__)\n",
    "        print(\"Average execution time for\", repetitions, \"repetitions:\", avg_time)\n",
    "        print(\"Total cost:\", cost)\n",
    "        print(\"Path: \")\n",
    "        print_path(path)\n",
    "        print()\n",
    "        print()\n",
    "        "
   ],
   "metadata": {
    "collapsed": false,
    "ExecuteTime": {
     "end_time": "2024-04-09T21:36:20.807831200Z",
     "start_time": "2024-04-09T21:36:20.766198200Z"
    }
   },
   "id": "9d16df049117c0a0"
  },
  {
   "cell_type": "code",
   "execution_count": 21,
   "outputs": [],
   "source": [
    "def print_path(path):\n",
    "    current_line = None\n",
    "    start_line_time = None\n",
    "    end_line_time = None\n",
    "    start_stop = None\n",
    "    end_stop = None\n",
    "    \n",
    "    for edge in path:\n",
    "        if current_line != edge.line:\n",
    "            if current_line is not None:\n",
    "                print(f\"{start_stop.stop_name} - {end_stop.stop_name} | {start_line_time.strftime('%H:%M:%S')} - {end_line_time.strftime('%H:%M:%S')} | Line: {current_line}\")\n",
    "            current_line = edge.line\n",
    "            start_line_time = edge.departure_time\n",
    "            start_stop = edge.start_stop\n",
    "            \n",
    "        end_line_time = edge.arrival_time\n",
    "        end_stop = edge.end_stop\n",
    "    \n",
    "    if current_line is not None:\n",
    "        print(f\"{start_stop.stop_name} - {end_stop.stop_name} | {start_line_time.strftime('%H:%M:%S')} - {end_line_time.strftime('%H:%M:%S')} | Line: {current_line}\")\n",
    "        "
   ],
   "metadata": {
    "collapsed": false,
    "ExecuteTime": {
     "end_time": "2024-04-09T21:36:21.350498600Z",
     "start_time": "2024-04-09T21:36:21.310511300Z"
    }
   },
   "id": "30d21f3f5dc8a963"
  },
  {
   "cell_type": "markdown",
   "source": [
    "Testy"
   ],
   "metadata": {
    "collapsed": false
   },
   "id": "557334ee187ede6c"
  },
  {
   "cell_type": "code",
   "execution_count": 23,
   "outputs": [
    {
     "name": "stdout",
     "output_type": "stream",
     "text": [
      "dijkstra_time\n",
      "Average execution time for 10 repetitions: 0.36800010204315187\n",
      "Total cost: 47.0\n",
      "Path: \n",
      "TRZEBNICKA - DWORZEC GŁÓWNY | 02:11:00 - 02:23:00 | Line: 247\n",
      "DWORZEC GŁÓWNY - GALERIA DOMINIKAŃSKA | 02:24:00 - 02:28:00 | Line: 244\n",
      "GALERIA DOMINIKAŃSKA - OGRÓD BOTANICZNY | 02:38:00 - 02:43:00 | Line: 246\n",
      "OGRÓD BOTANICZNY - PIASTOWSKA | 02:45:00 - 02:47:00 | Line: 259\n",
      "\n",
      "\n",
      "a_star_time\n",
      "Average execution time for 10 repetitions: 0.17334728240966796\n",
      "Total cost: 47.0\n",
      "Path: \n",
      "TRZEBNICKA - DWORZEC GŁÓWNY | 02:11:00 - 02:23:00 | Line: 247\n",
      "DWORZEC GŁÓWNY - GALERIA DOMINIKAŃSKA | 02:24:00 - 02:28:00 | Line: 244\n",
      "GALERIA DOMINIKAŃSKA - OGRÓD BOTANICZNY | 02:38:00 - 02:43:00 | Line: 246\n",
      "OGRÓD BOTANICZNY - PIASTOWSKA | 02:45:00 - 02:47:00 | Line: 259\n",
      "\n",
      "\n",
      "dijkstra_transfers\n",
      "Average execution time for 10 repetitions: 1.4323546886444092\n",
      "Total cost: 198.0\n",
      "Path: \n",
      "TRZEBNICKA - PIASTOWSKA | 05:06:00 - 05:18:00 | Line: 1\n",
      "\n",
      "\n",
      "a_star_transfers\n",
      "Average execution time for 10 repetitions: 0.9793622255325317\n",
      "Total cost: 198.0\n",
      "Path: \n",
      "TRZEBNICKA - PIASTOWSKA | 05:06:00 - 05:18:00 | Line: 1\n"
     ]
    }
   ],
   "source": [
    "test_algorithms(graph, 'TRZEBNICKA', 'PIASTOWSKA', datetime.strptime('02:00:00', '%H:%M:%S'), dijkstra_time, a_star_time, dijkstra_transfers, a_star_transfers)"
   ],
   "metadata": {
    "collapsed": false,
    "ExecuteTime": {
     "end_time": "2024-04-09T21:40:37.237915600Z",
     "start_time": "2024-04-09T21:40:07.706250Z"
    }
   },
   "id": "993a31e2eb3ff1f1"
  },
  {
   "cell_type": "code",
   "execution_count": 24,
   "outputs": [
    {
     "name": "stdout",
     "output_type": "stream",
     "text": [
      "dijkstra_time\n",
      "Average execution time for 10 repetitions: 1.7144853115081786\n",
      "Total cost: 26.0\n",
      "Path: \n",
      "KWISKA - DOLMED | 09:01:00 - 09:07:00 | Line: 20\n",
      "DOLMED - PL. GRUNWALDZKI | 09:07:00 - 09:26:00 | Line: 13\n",
      "\n",
      "\n",
      "a_star_time\n",
      "Average execution time for 10 repetitions: 0.20473790168762207\n",
      "Total cost: 26.0\n",
      "Path: \n",
      "KWISKA - DOLMED | 09:01:00 - 09:07:00 | Line: 20\n",
      "DOLMED - PL. GRUNWALDZKI | 09:07:00 - 09:26:00 | Line: 13\n",
      "\n",
      "\n",
      "dijkstra_transfers\n",
      "Average execution time for 10 repetitions: 3.012541317939758\n",
      "Total cost: 31.0\n",
      "Path: \n",
      "KWISKA - PL. GRUNWALDZKI | 09:06:00 - 09:31:00 | Line: 10\n",
      "\n",
      "\n",
      "a_star_transfers\n",
      "Average execution time for 10 repetitions: 0.9373103380203247\n",
      "Total cost: 31.0\n",
      "Path: \n",
      "KWISKA - PL. GRUNWALDZKI | 09:06:00 - 09:31:00 | Line: 10\n"
     ]
    }
   ],
   "source": [
    "test_algorithms(graph, 'KWISKA', 'PL. GRUNWALDZKI', datetime.strptime('09:00:00', '%H:%M:%S'), dijkstra_time, a_star_time, dijkstra_transfers, a_star_transfers)"
   ],
   "metadata": {
    "collapsed": false,
    "ExecuteTime": {
     "end_time": "2024-04-09T21:41:35.942952200Z",
     "start_time": "2024-04-09T21:40:37.242710Z"
    }
   },
   "id": "d6fe570c497af665"
  },
  {
   "cell_type": "code",
   "execution_count": 25,
   "outputs": [
    {
     "name": "stdout",
     "output_type": "stream",
     "text": [
      "dijkstra_time\n",
      "Average execution time for 10 repetitions: 0.9317850589752197\n",
      "Total cost: 26.0\n",
      "Path: \n",
      "MAGELLANA - PL. GRUNWALDZKI | 11:03:00 - 11:14:00 | Line: 115\n",
      "PL. GRUNWALDZKI - DWORZEC GŁÓWNY | 11:14:00 - 11:23:00 | Line: 145\n",
      "DWORZEC GŁÓWNY - DWORZEC AUTOBUSOWY | 11:23:00 - 11:26:00 | Line: 9\n",
      "\n",
      "\n",
      "a_star_time\n",
      "Average execution time for 10 repetitions: 0.13678936958312987\n",
      "Total cost: 26.0\n",
      "Path: \n",
      "MAGELLANA - PL. GRUNWALDZKI | 11:03:00 - 11:14:00 | Line: 115\n",
      "PL. GRUNWALDZKI - DWORZEC GŁÓWNY | 11:14:00 - 11:23:00 | Line: 145\n",
      "DWORZEC GŁÓWNY - DWORZEC AUTOBUSOWY | 11:23:00 - 11:26:00 | Line: 9\n",
      "\n",
      "\n",
      "dijkstra_transfers\n",
      "Average execution time for 10 repetitions: 2.4561169385910033\n",
      "Total cost: 831.0\n",
      "Path: \n",
      "MAGELLANA - DWORZEC AUTOBUSOWY | 00:26:00 - 00:51:00 | Line: 259\n",
      "\n",
      "\n",
      "a_star_transfers\n",
      "Average execution time for 10 repetitions: 2.531494379043579\n",
      "Total cost: 831.0\n",
      "Path: \n",
      "MAGELLANA - DWORZEC AUTOBUSOWY | 00:26:00 - 00:51:00 | Line: 259\n",
      "\n"
     ]
    }
   ],
   "source": [
    "test_algorithms(graph, 'MAGELLANA', 'DWORZEC AUTOBUSOWY', datetime.strptime('11:00:00', '%H:%M:%S'), dijkstra_time, a_star_time, dijkstra_transfers, a_star_transfers)"
   ],
   "metadata": {
    "collapsed": false,
    "ExecuteTime": {
     "end_time": "2024-04-09T21:42:36.513681900Z",
     "start_time": "2024-04-09T21:41:35.942952200Z"
    }
   },
   "id": "39a6194dc19276"
  },
  {
   "cell_type": "markdown",
   "source": [
    "# Modyfikacja "
   ],
   "metadata": {
    "collapsed": false
   },
   "id": "132a2d7f8c860ae"
  },
  {
   "cell_type": "markdown",
   "source": [
    "W ramach modyfikacji wykonałem porównanie dokładności funkcji obliczającej heurystyke, w zależności od sposobu wyliczania odległości między przystankami. Wyniki zestawiłem również ze średnim czasem przejazdu między przystankami pojedynczą linią w środę o godzinie 9:00."
   ],
   "metadata": {
    "collapsed": false
   },
   "id": "907f627ed1ae8453"
  },
  {
   "cell_type": "code",
   "execution_count": 26,
   "outputs": [],
   "source": [
    "def check_time_as_distance(start_stop, end_stop):\n",
    "    euc = euclidian_distance(start_stop, end_stop)*416.25\n",
    "    man = manhattan_distance(start_stop, end_stop)*416.25\n",
    "    \n",
    "    print('Stops:', start_stop.stop_name, '-', end_stop.stop_name)\n",
    "    print('Euclidian:', euc)\n",
    "    print('Manhattan', man)"
   ],
   "metadata": {
    "collapsed": false,
    "ExecuteTime": {
     "end_time": "2024-04-09T21:42:36.516879500Z",
     "start_time": "2024-04-09T21:42:36.516347600Z"
    }
   },
   "id": "ecd2b766e0592a79"
  },
  {
   "cell_type": "code",
   "execution_count": 27,
   "outputs": [
    {
     "name": "stdout",
     "output_type": "stream",
     "text": [
      "Stops: TRZEBNICKA - PIASTOWSKA\n",
      "Euclidian: 11.40456835952207\n",
      "Manhattan 15.467470926928343\n"
     ]
    }
   ],
   "source": [
    "check_time_as_distance(graph['TRZEBNICKA'], graph['PIASTOWSKA'])"
   ],
   "metadata": {
    "collapsed": false,
    "ExecuteTime": {
     "end_time": "2024-04-09T21:42:36.523997300Z",
     "start_time": "2024-04-09T21:42:36.516879500Z"
    }
   },
   "id": "d18e2144e1b03206"
  },
  {
   "cell_type": "code",
   "execution_count": 28,
   "outputs": [
    {
     "name": "stdout",
     "output_type": "stream",
     "text": [
      "Stops: TRAMWAJOWA - NIEDŹWIEDZIA\n",
      "Euclidian: 38.355318662628854\n",
      "Manhattan 44.873762016670454\n"
     ]
    }
   ],
   "source": [
    "check_time_as_distance(graph['TRAMWAJOWA'], graph['NIEDŹWIEDZIA'])"
   ],
   "metadata": {
    "collapsed": false,
    "ExecuteTime": {
     "end_time": "2024-04-09T21:42:36.526312400Z",
     "start_time": "2024-04-09T21:42:36.523997300Z"
    }
   },
   "id": "f3b31d8ae5ceeb55"
  },
  {
   "cell_type": "code",
   "execution_count": 29,
   "outputs": [
    {
     "name": "stdout",
     "output_type": "stream",
     "text": [
      "Stops: DWORZEC NADODRZE - DWORZEC AUTOBUSOWY\n",
      "Euclidian: 11.472850486831023\n",
      "Manhattan 12.101246164399564\n"
     ]
    }
   ],
   "source": [
    "check_time_as_distance(graph['DWORZEC NADODRZE'], graph['DWORZEC AUTOBUSOWY'])"
   ],
   "metadata": {
    "collapsed": false,
    "ExecuteTime": {
     "end_time": "2024-04-09T21:42:36.534378100Z",
     "start_time": "2024-04-09T21:42:36.530310500Z"
    }
   },
   "id": "42ac70333877ecb1"
  },
  {
   "cell_type": "code",
   "execution_count": 30,
   "outputs": [
    {
     "name": "stdout",
     "output_type": "stream",
     "text": [
      "Stops: NYSKA - NOWOWIEJSKA\n",
      "Euclidian: 17.67954834099821\n",
      "Manhattan 21.30942364453564\n"
     ]
    }
   ],
   "source": [
    "check_time_as_distance(graph['NYSKA'], graph['NOWOWIEJSKA'])"
   ],
   "metadata": {
    "collapsed": false,
    "ExecuteTime": {
     "end_time": "2024-04-09T21:42:36.536476100Z",
     "start_time": "2024-04-09T21:42:36.535950700Z"
    }
   },
   "id": "e5c9333b58b06b50"
  },
  {
   "cell_type": "code",
   "execution_count": 31,
   "outputs": [
    {
     "name": "stdout",
     "output_type": "stream",
     "text": [
      "Stops: CEGLANA - ŁUŻYCKA\n",
      "Euclidian: 43.933850579156406\n",
      "Manhattan 49.73111243638494\n"
     ]
    }
   ],
   "source": [
    "check_time_as_distance(graph['CEGLANA'], graph['ŁUŻYCKA'])"
   ],
   "metadata": {
    "collapsed": false,
    "ExecuteTime": {
     "end_time": "2024-04-09T21:42:36.697072400Z",
     "start_time": "2024-04-09T21:42:36.540475600Z"
    }
   },
   "id": "579b6bf8159a8f23"
  },
  {
   "cell_type": "code",
   "execution_count": 32,
   "outputs": [
    {
     "name": "stdout",
     "output_type": "stream",
     "text": [
      "Stops: LEŚNICA - OPORÓW\n",
      "Euclidian: 48.60228889279903\n",
      "Manhattan 66.78679861029849\n"
     ]
    }
   ],
   "source": [
    "check_time_as_distance(graph['LEŚNICA'], graph['OPORÓW'])"
   ],
   "metadata": {
    "collapsed": false,
    "ExecuteTime": {
     "end_time": "2024-04-09T21:42:36.697072400Z",
     "start_time": "2024-04-09T21:42:36.544853100Z"
    }
   },
   "id": "1886483f71b48715"
  },
  {
   "cell_type": "code",
   "execution_count": 33,
   "outputs": [
    {
     "name": "stdout",
     "output_type": "stream",
     "text": [
      "Stops: PL. GRUNWALDZKI - PL. JANA PAWŁA II\n",
      "Euclidian: 18.473351377546248\n",
      "Manhattan 18.738214284453996\n"
     ]
    }
   ],
   "source": [
    "check_time_as_distance(graph['PL. GRUNWALDZKI'], graph['PL. JANA PAWŁA II'])"
   ],
   "metadata": {
    "collapsed": false,
    "ExecuteTime": {
     "end_time": "2024-04-09T21:42:36.697072400Z",
     "start_time": "2024-04-09T21:42:36.551641900Z"
    }
   },
   "id": "12af1877b8bf678"
  },
  {
   "cell_type": "code",
   "execution_count": 34,
   "outputs": [
    {
     "name": "stdout",
     "output_type": "stream",
     "text": [
      "Stops: POŚWIĘTNE - KĘPIŃSKA\n",
      "Euclidian: 2.964104345326998\n",
      "Manhattan 3.6909054000022845\n"
     ]
    }
   ],
   "source": [
    "check_time_as_distance(graph['POŚWIĘTNE'], graph['KĘPIŃSKA'])"
   ],
   "metadata": {
    "collapsed": false,
    "ExecuteTime": {
     "end_time": "2024-04-09T21:42:36.705070600Z",
     "start_time": "2024-04-09T21:42:36.555326Z"
    }
   },
   "id": "ff8cbe210967d488"
  },
  {
   "cell_type": "code",
   "execution_count": 35,
   "outputs": [
    {
     "name": "stdout",
     "output_type": "stream",
     "text": [
      "Stops: RYNEK - ŚWIDNICKA\n",
      "Euclidian: 2.792377156266145\n",
      "Manhattan 3.882881280701387\n"
     ]
    }
   ],
   "source": [
    "check_time_as_distance(graph['RYNEK'], graph['ŚWIDNICKA'])"
   ],
   "metadata": {
    "collapsed": false,
    "ExecuteTime": {
     "end_time": "2024-04-09T21:42:36.705070600Z",
     "start_time": "2024-04-09T21:42:36.565714200Z"
    }
   },
   "id": "8da7f2a5b5012573"
  },
  {
   "cell_type": "code",
   "execution_count": 36,
   "outputs": [
    {
     "name": "stdout",
     "output_type": "stream",
     "text": [
      "Stops: DWORZEC GŁÓWNY - PORT LOTNICZY\n",
      "Euclidian: 64.14980842935064\n",
      "Manhattan 68.1981537060105\n"
     ]
    }
   ],
   "source": [
    "check_time_as_distance(graph['DWORZEC GŁÓWNY'], graph['PORT LOTNICZY'])"
   ],
   "metadata": {
    "collapsed": false,
    "ExecuteTime": {
     "end_time": "2024-04-09T21:42:36.709069300Z",
     "start_time": "2024-04-09T21:42:36.592233700Z"
    }
   },
   "id": "19bfc83f4f887214"
  },
  {
   "cell_type": "markdown",
   "source": [
    "| PRZYSTANKI                            | EUCLIDIAN | MANHATTAN | CZAS RZECZYWISTY |\n",
    "|---------------------------------------|-----------|-----------|------------------|\n",
    "| TRZEBNICKA - PIASTOWSKA               | 11.4      | 15.5      | 12.0             |\n",
    "| TRAMWAJOWA - NIEDŹWIEDZIA             | 38.4      | 44.9      | 30.0             |\n",
    "| DWORZEC NADODRZE - DWORZEC AUTOBUSOWY | 11.5      | 12.1      | 18.0             |\n",
    "| NYSKA - NOWOWIEJSKA                   | 17.7      | 21.3      | 25.0             |\n",
    "| CEGLANA - ŁUŻYCKA                     | 43.9      | 49.7      | 33.0             |\n",
    "| LEŚNICA - OPORÓW                      | 48.6      | 66.8      | 60.0             |\n",
    "| PL. GRUNWALDZKI - PL. JANA PAWŁA II   | 18.5      | 18.7      | 15.0             |\n",
    "| POŚWIĘTNE - KĘPIŃSKA                  | 3.0       | 3.7       | 2.0              |\n",
    "| RYNEK - ŚWIDNICKA                     | 2.8       | 3.9       | 3.0              |\n",
    "| DWORZEC GŁÓWNY - PORT LOTNICZY        | 64.1      | 68.2      | 38.0             |\n"
   ],
   "metadata": {
    "collapsed": false
   },
   "id": "c2d80605ac4c65ab"
  },
  {
   "cell_type": "markdown",
   "source": [
    "Bazując na powyższych wynikach uznałem metodę euklidesową jako bardziej trafną dla mojego programu. Wynik heurystyki dla tego sposobu obliczania odległości był bliższy rzeczywistemu czasowi przejazdu w 7 z 10 przypadków. "
   ],
   "metadata": {
    "collapsed": false
   },
   "id": "16f2ae47055d3060"
  },
  {
   "cell_type": "markdown",
   "source": [
    "# Wnioski"
   ],
   "metadata": {
    "collapsed": false
   },
   "id": "1c199051bdaffed7"
  },
  {
   "cell_type": "markdown",
   "source": [
    "Na początku największym wyzwaniem było wymyślenie przejrzystej i łatwej w funkcjonowaniu struktury, do której wczytywane będą dane. Kolejnym napotkanym problemem było przekazywanie i dostęp do danych w poszczegónych krokach algorytmów. Przy implementacji algorytmów związanych z kryterium czasu nie napotkałem większych kłopotów. Największym wyzwaniem okazała się implmentacja kryterium przesiadek, a konkretniej zauważenie potrzeby rozszerzenia klucza w słowniku kosztu o numer linii oraz ustawienie kosztu dla wszytskich linii przystanku początkowego na 0. Kolejna komplikacja, z którą musiałem się zmierzyć nastąpiła przy testowaniu czasów. Przez długi czas algorytmy a* potrafiły trwać wielokrotnie dłużej niż dijkstra, co według założeń powinno być niemożliwe. Po wielu próbach modyfikacji kodu, spostrzegłem błąd w funkcjach uśredniających lokalizaję przystanku podczas wczytywania danych, co powodowało błędnie wyliczane priorytety, które wydłużały czas działania funkcji.\n",
    "\n",
    "Zgodnie z oczekiwaniami algorytm a* okazał się szybszy od algorytmu dijkstry. Jednakże różnica w czasie ich wykonywania zależna jest od rozważanego przypadku, co pokazują powyższe testy. Kluczową rolę w przyśpieszeniu czasu wykonywania funkcji ma heurystyka, która nieodpowienio dobrana może nawet spowodować sytuację, gdzie a* trwać będzie dłużej od algorytmu dijkstry."
   ],
   "metadata": {
    "collapsed": false
   },
   "id": "1ad4e7732744f40c"
  },
  {
   "cell_type": "code",
   "execution_count": null,
   "outputs": [],
   "source": [],
   "metadata": {
    "collapsed": false
   },
   "id": "9bc8e66732d7aea1"
  }
 ],
 "metadata": {
  "kernelspec": {
   "display_name": "Python 3",
   "language": "python",
   "name": "python3"
  },
  "language_info": {
   "codemirror_mode": {
    "name": "ipython",
    "version": 2
   },
   "file_extension": ".py",
   "mimetype": "text/x-python",
   "name": "python",
   "nbconvert_exporter": "python",
   "pygments_lexer": "ipython2",
   "version": "2.7.6"
  }
 },
 "nbformat": 4,
 "nbformat_minor": 5
}
